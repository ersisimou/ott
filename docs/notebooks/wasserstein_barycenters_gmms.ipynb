{
 "cells": [
  {
   "cell_type": "code",
   "execution_count": 2,
   "id": "0cca77c8",
   "metadata": {},
   "outputs": [],
   "source": [
    "import numpy as np\n",
    "import jax\n",
    "import jax.numpy as jnp\n",
    "import matplotlib.pyplot as plt\n",
    "from matplotlib.colors import LogNorm\n",
    "%matplotlib inline\n",
    "from scipy.stats import wishart"
   ]
  },
  {
   "cell_type": "code",
   "execution_count": 3,
   "id": "19c39d88",
   "metadata": {},
   "outputs": [],
   "source": [
    "from ott.tools.gaussian_mixture import gaussian_mixture\n",
    "from ott.core import segment, bar_problems\n",
    "from ott.core import continuous_barycenter\n",
    "from ott.geometry import costs"
   ]
  },
  {
   "cell_type": "markdown",
   "id": "34fff76f",
   "metadata": {},
   "source": [
    "In this notebook we demonstrate how we can compute Wasserstein barycenters of mixtures of Gaussians."
   ]
  },
  {
   "cell_type": "markdown",
   "id": "603a2cd7",
   "metadata": {},
   "source": [
    "# Generate the Gaussian Mixture Models."
   ]
  },
  {
   "cell_type": "markdown",
   "id": "f867aca0",
   "metadata": {},
   "source": [
    "First, we randomly generate the $d$ dimensional mixtures of Gaussians. \n",
    "\n",
    "For each GMM we chose an offset $c \\in \\mathbb{R}^d$ for the means of the components and a parameter $s\\geq0$ that affects the covariance matrices of the components.\n",
    "\n",
    "The means of the components of a GMM are generated as:\n",
    "\n",
    "$$\\mu = c + u,$$\n",
    "\n",
    "where $u$ follows the uniform distribution $\\mathcal{U}(0,|\\bar{c}|)$ with $\\bar{c}=\\frac{1}{d} \\sum_{i=1}^d c_i$. \n",
    "\n",
    "The covariances of the components of a GMM are generated as samples of the Wishart distribution $W_d(\\nu, \\Sigma)$, where $\\nu$ is the degrees of freedom and $\\Sigma \\in \\mathbb{R}^{d \\times d}$ is the scale matrix. The scale matrix is generated as:\n",
    "\n",
    "$$\\Sigma=GG^{\\top}+\\lambda I,$$\n",
    "\n",
    "where $G \\in \\mathbb{R}^{d \\times d}$ is drawn from the Gaussian normal distribution. The identity matrix with weight $\\lambda=10^{-3}$ is added in order to ensure that the scale matrix $\\Sigma$ is [positive definite](https://docs.scipy.org/doc/scipy/reference/generated/scipy.stats.wishart.html).\n",
    "\n",
    "The degrees of freedom $\\nu$ must satisfy $\\nu \\geq d$. Therefore, $\\nu$ is determined as $\\nu = d + s$ with $s \\geq 0$."
   ]
  },
  {
   "cell_type": "markdown",
   "id": "0e25d363",
   "metadata": {},
   "source": [
    "We generate three GMMs, each composed of a different number of components. "
   ]
  },
  {
   "cell_type": "code",
   "execution_count": 4,
   "id": "b9ccbb51",
   "metadata": {},
   "outputs": [
    {
     "name": "stderr",
     "output_type": "stream",
     "text": [
      "WARNING:absl:No GPU/TPU found, falling back to CPU. (Set TF_CPP_MIN_LOG_LEVEL=0 and rerun for more info.)\n"
     ]
    }
   ],
   "source": [
    "dim = 2 # the dimension of the Gaussians\n",
    "n_components = jnp.array([2, 3, 5]) # the number of components of the GMMs  \n",
    "n_gmms = n_components.size # the number of GMMs whose barycenter will be computed\n",
    "epsilon = 0.1 # the entropy regularization parameter "
   ]
  },
  {
   "cell_type": "code",
   "execution_count": 5,
   "id": "f9894d9e",
   "metadata": {},
   "outputs": [],
   "source": [
    "# the maximal number of components of the considered GMMs\n",
    "max_gmm_size = jnp.amax(n_components)"
   ]
  },
  {
   "cell_type": "markdown",
   "id": "b3668b4f",
   "metadata": {},
   "source": [
    "The barycentric weights determine how much each GMM will contribute to the Wasserstein barycenter computation. Since these weights must sum to one, we generate them by sampling Dirichlet random values. Larger values of the concentration parameter $\\alpha$ lead to barycentric weights that are more uniform. Smaller values of $\\alpha$ will result to certain GMMs contributing significantly more than others to the barycenter computation.   "
   ]
  },
  {
   "cell_type": "code",
   "execution_count": 6,
   "id": "53bf20b1",
   "metadata": {},
   "outputs": [],
   "source": [
    "# generate the pseudo-random keys that will be needed\n",
    "key = jax.random.PRNGKey(seed=3)\n",
    "keys = jax.random.split(key, num=n_gmms+2) "
   ]
  },
  {
   "cell_type": "code",
   "execution_count": 7,
   "id": "d48c7e8f",
   "metadata": {},
   "outputs": [],
   "source": [
    "alpha = 50. # the concentration parameter of Dirichlet"
   ]
  },
  {
   "cell_type": "code",
   "execution_count": 8,
   "id": "bc7f8af4",
   "metadata": {},
   "outputs": [],
   "source": [
    "barycentric_weights = jax.random.dirichlet(keys[0], alpha=jnp.ones(n_gmms)*alpha) "
   ]
  },
  {
   "cell_type": "code",
   "execution_count": 9,
   "id": "3e2b2cd6",
   "metadata": {},
   "outputs": [],
   "source": [
    "# Create the seeds for the random generation of each measure.\n",
    "seeds = jax.random.randint(keys[1], shape=(n_gmms,), minval=0, maxval=100)"
   ]
  },
  {
   "cell_type": "markdown",
   "id": "12a43944",
   "metadata": {},
   "source": [
    "We set the offsets $c$ for each GMM to be different so that they can be easily visualized."
   ]
  },
  {
   "cell_type": "code",
   "execution_count": 10,
   "id": "2cbb4efe",
   "metadata": {},
   "outputs": [],
   "source": [
    "# Offsets for the means of each GMM\n",
    "cs = jnp.array([[-20, -15], [60, -25], [50, 35]])"
   ]
  },
  {
   "cell_type": "markdown",
   "id": "782f88e4",
   "metadata": {},
   "source": [
    "We select the parameter $s$ that will determine the degrees of freedom of the Wishart distribution considered for each GMM. "
   ]
  },
  {
   "cell_type": "code",
   "execution_count": 11,
   "id": "86ab5b36",
   "metadata": {},
   "outputs": [],
   "source": [
    "# Parameter that controls the degrees of freedom of the Wishart distribution\n",
    "ss = jnp.array([2, 3, 5])"
   ]
  },
  {
   "cell_type": "code",
   "execution_count": 12,
   "id": "9bd26384",
   "metadata": {},
   "outputs": [],
   "source": [
    "assert cs.shape[0] == n_gmms\n",
    "assert ss.size == n_gmms\n",
    "assert seeds.size == n_gmms\n",
    "assert n_components.size == n_gmms\n",
    "assert jnp.array_equal(jnp.absolute(ss), ss)\n",
    "assert jnp.mean(cs, axis=1).all() > 0"
   ]
  },
  {
   "cell_type": "code",
   "execution_count": 13,
   "id": "40286c35",
   "metadata": {},
   "outputs": [],
   "source": [
    "def generate_means_and_covs_for_random_gmm(num_components, dimension, c, s, rng=0):\n",
    "    \"\"\"\n",
    "    Generate the means and covariance matrices of a random Gaussian Mixture Model.\n",
    "    \n",
    "    Args:\n",
    "        num_components: The number of components of the Gaussian mixture model.\n",
    "        dimension: The dimension of the Gaussian mixture model.\n",
    "        c: Offset for the means of the GMM.\n",
    "        s: Parameter controlling the degrees of freedom of the Wishart distribution for the covariance matrices.\n",
    "        rng: The seed used for the pseudo-random generator.\n",
    "    Returns:\n",
    "        means: The means of the components.\n",
    "        covs: The covariance matrices of the component.\n",
    "    \"\"\"\n",
    "    s = jnp.atleast_1d(s)\n",
    "    assert s >= 0 \n",
    "    key = jax.random.PRNGKey(rng)\n",
    "    keys = jax.random.split(key, num=3)\n",
    "    means = c + jax.random.uniform(keys[0], shape=(num_components, dimension), minval=0, maxval=jnp.absolute(jnp.mean(c)))\n",
    "    nu = s[0].tolist() + dimension # degree of freedom of Wishart distribution\n",
    "    g_matrix = jax.random.normal(keys[1], (dimension, dimension))\n",
    "    scale_matrix =  g_matrix @ jnp.transpose(g_matrix) + 1e-3 * jnp.eye(dimension)\n",
    "    covs = jnp.array(wishart.rvs(df=nu, scale=scale_matrix, size=num_components, random_state=0))\n",
    "    return means, covs"
   ]
  },
  {
   "cell_type": "code",
   "execution_count": 14,
   "id": "5b4b3df9",
   "metadata": {},
   "outputs": [],
   "source": [
    "# generate the means and covariances of the GMMs\n",
    "means_covs = [generate_means_and_covs_for_random_gmm(n_components[i], dim, cs[i], ss[i], seeds[i]) for i in range(n_gmms)]"
   ]
  },
  {
   "cell_type": "code",
   "execution_count": 15,
   "id": "5d746c32",
   "metadata": {},
   "outputs": [],
   "source": [
    "# stack the concatenated means and (raveled) covariances of the pointclouds\n",
    "ys = jnp.vstack((costs.means_and_covs_to_x(means_covs[i][0], means_covs[i][1], dim) for i in range(n_gmms)))"
   ]
  },
  {
   "cell_type": "markdown",
   "id": "7b642d66",
   "metadata": {},
   "source": [
    "We generate the weights of the GMMs that will describe the significance of each Gaussian of a GMM by sampling Dirichlet random values. One can consider different $\\alpha$ parameters of each GMM. Here, for simplicity, we use the same concentration parameter $\\alpha$ for all GMMs."
   ]
  },
  {
   "cell_type": "code",
   "execution_count": 16,
   "id": "b06381e7",
   "metadata": {},
   "outputs": [],
   "source": [
    "weights = [jax.random.dirichlet(keys[i+2], alpha=jnp.ones(n_components[i])*alpha) for i in range(n_gmms)]"
   ]
  },
  {
   "cell_type": "code",
   "execution_count": 17,
   "id": "a047c812",
   "metadata": {},
   "outputs": [],
   "source": [
    "# stack the weights of the GMMs\n",
    "bs = jnp.hstack(jnp.array(weights[i]) for i in range(n_gmms))"
   ]
  },
  {
   "cell_type": "code",
   "execution_count": 18,
   "id": "892480e6",
   "metadata": {},
   "outputs": [],
   "source": [
    "# segment the pointclouds of GMMs to enable parallelization of the OT problems with jax.vmap\n",
    "segmented_y, segmented_b, num_segments = segment.segment_point_cloud(ys, num_per_segment=n_components, num_segments=n_gmms, custom_padder=costs.mean_and_cov_padder)"
   ]
  },
  {
   "cell_type": "code",
   "execution_count": 19,
   "id": "303f0aa9",
   "metadata": {},
   "outputs": [],
   "source": [
    "assert segmented_y.shape == (n_gmms, max_gmm_size, dim*(dim+1))\n",
    "assert segmented_b.shape == (n_gmms, max_gmm_size)\n",
    "assert num_segments == n_gmms"
   ]
  },
  {
   "cell_type": "markdown",
   "id": "c792ca9a",
   "metadata": {},
   "source": [
    "# Compute the Wasserstein barycenter of the GMMs."
   ]
  },
  {
   "cell_type": "markdown",
   "id": "7a87beb4",
   "metadata": {},
   "source": [
    "We can now compute the barycenter of the input GMMs. We determine the number of components of the barycenter GMM and solve the barycenter problem. We must ensure that the initialization of the barycenter is valid, in the sense that the covariance matrix must be a positive semidefinite matrix. We therefore initialize the barycenter, using ``generate_means_and_covs_for_random_gmm()``."
   ]
  },
  {
   "cell_type": "code",
   "execution_count": 20,
   "id": "1c178f92",
   "metadata": {},
   "outputs": [],
   "source": [
    "# Determine the size of the barycenter.\n",
    "bar_size = 6"
   ]
  },
  {
   "cell_type": "code",
   "execution_count": 21,
   "id": "cf241253",
   "metadata": {},
   "outputs": [],
   "source": [
    "# Initialize the means and the covariances of the GMM barycenter.\n",
    "x_init_means, x_init_covs = generate_means_and_covs_for_random_gmm(bar_size, dim, c=jnp.zeros(dim), s=1)"
   ]
  },
  {
   "cell_type": "code",
   "execution_count": 22,
   "id": "2c6821a5",
   "metadata": {},
   "outputs": [],
   "source": [
    "# Concatenate the means and (raveled) covariances of the barycenter initialization.\n",
    "x_init = costs.means_and_covs_to_x(x_init_means, x_init_covs, dim)"
   ]
  },
  {
   "cell_type": "code",
   "execution_count": 23,
   "id": "1d5c0246",
   "metadata": {},
   "outputs": [],
   "source": [
    "# Create an instance of the Bures cost class.\n",
    "b_cost = costs.Bures(dimension=dim)"
   ]
  },
  {
   "cell_type": "code",
   "execution_count": 24,
   "id": "bd016819",
   "metadata": {},
   "outputs": [],
   "source": [
    "# Create a barycenter problem.\n",
    "bar_p = bar_problems.BarycenterProblem(\n",
    "        segmented_y,\n",
    "        segmented_b,\n",
    "        weights=barycentric_weights,\n",
    "        num_per_segment=n_components,\n",
    "        num_segments=n_gmms,\n",
    "        cost_fn=b_cost,\n",
    "        epsilon=epsilon\n",
    "    )"
   ]
  },
  {
   "cell_type": "code",
   "execution_count": 25,
   "id": "5dba3154",
   "metadata": {},
   "outputs": [],
   "source": [
    "# Create a Wasserstein barycenter solver.\n",
    "solver = continuous_barycenter.WassersteinBarycenter(lse_mode=True)"
   ]
  },
  {
   "cell_type": "code",
   "execution_count": 26,
   "id": "5702e303",
   "metadata": {},
   "outputs": [],
   "source": [
    "# Compute the barycenter.\n",
    "out = solver(bar_p, bar_size=bar_size, x_init=x_init)\n",
    "barycenter = out.x"
   ]
  },
  {
   "cell_type": "markdown",
   "id": "587f463a",
   "metadata": {},
   "source": [
    "Now that we have computed the barycenter, we can extract the means and the covariances of its components."
   ]
  },
  {
   "cell_type": "code",
   "execution_count": 27,
   "id": "1162408b",
   "metadata": {},
   "outputs": [],
   "source": [
    "# Extract the means and covariances of the barycenter.\n",
    "means_bary, covs_bary = costs.x_to_means_and_covs(barycenter, dim)"
   ]
  },
  {
   "cell_type": "markdown",
   "id": "80741af9",
   "metadata": {},
   "source": [
    "# Visualize the results."
   ]
  },
  {
   "cell_type": "markdown",
   "id": "742a6785",
   "metadata": {},
   "source": [
    "We consider a discretization grid in 2D in order to plot the negative probabilities of points under the considered GMMs. "
   ]
  },
  {
   "cell_type": "code",
   "execution_count": 28,
   "id": "e2d51265",
   "metadata": {},
   "outputs": [],
   "source": [
    "# Create the grid\n",
    "x1 = np.linspace(-30.0, 90.0)\n",
    "x2 = np.linspace(-30.0, 90.0)\n",
    "x, y = np.meshgrid(x1, x2)\n",
    "grid = np.array([x.ravel(), y.ravel()]).T"
   ]
  },
  {
   "cell_type": "code",
   "execution_count": 29,
   "id": "d2f7bc67",
   "metadata": {},
   "outputs": [],
   "source": [
    "def get_neg_log_probs(grid, means, covs, weights=None):\n",
    "    \"\"\"\n",
    "    Compute the negative log probabilities of a GMM at a grid.\n",
    "    \n",
    "    Args:\n",
    "        grid: The grid where the negative log probabilities are computed.\n",
    "        means: The means of the components of the GMM.\n",
    "        covs: The covariance matrices of the components of the GMM.\n",
    "        weights: The weights of the GMM.\n",
    "    Returns:\n",
    "        n_log_prob: the negative log probabilities at the grid.\n",
    "    \"\"\"\n",
    "    num_components = means.shape[0]\n",
    "    if weights == None:\n",
    "        weights = jnp.ones(num_components) / num_components\n",
    "    gmm_generator = gaussian_mixture.GaussianMixture.from_mean_cov_component_weights(\n",
    "                                                                    mean=means,\n",
    "                                                                    cov=covs,\n",
    "                                                                    component_weights=weights)\n",
    "    n_log_prob = - gmm_generator.log_prob(grid)\n",
    "    return n_log_prob"
   ]
  },
  {
   "cell_type": "code",
   "execution_count": 30,
   "id": "17f9aa14",
   "metadata": {},
   "outputs": [],
   "source": [
    "# Compute the negative log probabilities of the GMMs at the grid.\n",
    "n_log_prob = jnp.array([get_neg_log_probs(grid, means_covs[i][0], means_covs[i][1], weights[i]) for i in range(n_gmms)])"
   ]
  },
  {
   "cell_type": "code",
   "execution_count": 31,
   "id": "67b141a8",
   "metadata": {},
   "outputs": [],
   "source": [
    "# Compute the negative log probabilities at the grid under the barycenter GMM.\n",
    "n_log_prob_bary = get_neg_log_probs(grid, means_bary, covs_bary)"
   ]
  },
  {
   "cell_type": "markdown",
   "id": "b249681b",
   "metadata": {},
   "source": [
    "We now visualize the three GMMs and their barycenter."
   ]
  },
  {
   "cell_type": "code",
   "execution_count": 32,
   "id": "c7403b2f",
   "metadata": {},
   "outputs": [],
   "source": [
    "# Reshape the log probabilities in order to plot.\n",
    "n_log_prob = n_log_prob.reshape((n_gmms, x.shape[0], x.shape[1]))\n",
    "n_log_prob_bary = n_log_prob_bary.reshape((x.shape[0], x.shape[1]))"
   ]
  },
  {
   "cell_type": "code",
   "execution_count": 33,
   "id": "a9849b81",
   "metadata": {},
   "outputs": [
    {
     "data": {
      "image/png": "[encoded data removed]",
      "text/plain": [
       "<Figure size 720x720 with 1 Axes>"
      ]
     },
     "metadata": {
      "needs_background": "light"
     },
     "output_type": "display_data"
    }
   ],
   "source": [
    "plt.figure(figsize=(10,10))\n",
    "\n",
    "CS1 = plt.contour(\n",
    "    x, y, n_log_prob[0, :, :], norm=LogNorm(vmin=1.0, vmax=10.0), levels=np.logspace(0, 1, 10)\n",
    ")\n",
    "\n",
    "CS2 = plt.contour(\n",
    "    x, y, n_log_prob[1, :, :], norm=LogNorm(vmin=1.0, vmax=10.0), levels=np.logspace(0, 1, 10)\n",
    ")\n",
    "\n",
    "CS3 = plt.contour(\n",
    "    x, y, n_log_prob[2, :, :], norm=LogNorm(vmin=1.0, vmax=10.0), levels=np.logspace(0, 1, 10)\n",
    ")\n",
    "\n",
    "CS4 = plt.contour(\n",
    "    x, y, n_log_prob_bary, norm=LogNorm(vmin=1.0, vmax=10.0), levels=np.logspace(0, 1, 10)\n",
    ")\n",
    "\n",
    "plt.annotate('First GMM',(-15, 15), fontsize=16)\n",
    "plt.annotate('Second GMM',(60, 2), fontsize=16)\n",
    "plt.annotate('Third GMM',(52, 65), fontsize=16)\n",
    "plt.annotate('Barycenter',(30, 40), fontsize=16)\n",
    "\n",
    "plt.title(\"Three GMMs and their barycenter\", fontsize=20)\n",
    "plt.axis(\"tight\")\n",
    "plt.show()"
   ]
  }
 ],
 "metadata": {
  "kernelspec": {
   "display_name": "Python 3 (ipykernel)",
   "language": "python",
   "name": "python3"
  },
  "language_info": {
   "codemirror_mode": {
    "name": "ipython",
    "version": 3
   },
   "file_extension": ".py",
   "mimetype": "text/x-python",
   "name": "python",
   "nbconvert_exporter": "python",
   "pygments_lexer": "ipython3",
   "version": "3.9.13"
  }
 },
 "nbformat": 4,
 "nbformat_minor": 5
}

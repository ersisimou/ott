{
 "cells": [
  {
   "cell_type": "code",
   "execution_count": 1,
   "id": "4ce3d149",
   "metadata": {},
   "outputs": [],
   "source": [
    "import sys\n",
    "sys.path.insert(1, '/Users/effrosyni_simou/Documents/ott/')"
   ]
  },
  {
   "cell_type": "code",
   "execution_count": 2,
   "id": "0cca77c8",
   "metadata": {},
   "outputs": [],
   "source": [
    "import numpy as np\n",
    "import jax\n",
    "import jax.numpy as jnp\n",
    "import matplotlib.pyplot as plt\n",
    "from matplotlib.colors import LogNorm\n",
    "%matplotlib inline"
   ]
  },
  {
   "cell_type": "code",
   "execution_count": 3,
   "id": "19c39d88",
   "metadata": {},
   "outputs": [],
   "source": [
    "from ott.tools.gaussian_mixture import gaussian_mixture\n",
    "from ott.core import bar_problems, continuous_barycenter\n",
    "from ott.geometry import costs"
   ]
  },
  {
   "cell_type": "markdown",
   "id": "34fff76f",
   "metadata": {},
   "source": [
    "In this notebook we demonstrate how we can compute Wasserstein barycenters of mixtures of Gaussians."
   ]
  },
  {
   "cell_type": "markdown",
   "id": "603a2cd7",
   "metadata": {},
   "source": [
    "# Generate the Gaussian Mixture Models."
   ]
  },
  {
   "cell_type": "markdown",
   "id": "f867aca0",
   "metadata": {},
   "source": [
    "First, we randomly generate the $d$ dimensional mixtures of Gaussians. \n",
    "\n",
    "For each GMM we chose a ridge $c \\in \\mathbb{R}^d$ for the means of the components and a parameter $s>0$ that affects the covariance matrices of the components.\n",
    "\n",
    "The means of the components of a GMM are generated as:\n",
    "\n",
    "$$\\mu = mu + c,$$\n",
    "\n",
    "where $u$ is obtained as $d$ samples from the normal distribution, $c \\in \\mathbb{R}^d$ and $m=0.1\\frac{1}{d} \\sum_{i=1}^d c_i$. \n",
    "\n",
    "The covariance matrices are generated using the eigendecomposition:\n",
    "\n",
    "$$C=U \\Lambda U^{\\top},$$\n",
    "\n",
    "where $U \\in \\mathbb{R}^{d \\times d}$ is a randomly generated orthogonal matrix and $\\Lambda$ is the diagonal matrix with elements of the diagonal the randomly generated eigenvalues:\n",
    "\n",
    "$$\\lambda = s e^h,$$\n",
    "\n",
    "where $h$ is obtained as $d$ samples from the normal distribution and $s>0$. "
   ]
  },
  {
   "cell_type": "markdown",
   "id": "c9ce4856",
   "metadata": {},
   "source": [
    "The weights of the $K$ components of the GMM are generated as:\n",
    "\n",
    "$$w_k = \\frac{e^{a_k}}{\\sum_{k=1}^K e^{a_k}} \\forall k,$$\n",
    "\n",
    "where $a_k=0.1*v_K$ and $v_k$ follows the normal distribution."
   ]
  },
  {
   "cell_type": "markdown",
   "id": "0e25d363",
   "metadata": {},
   "source": [
    "We generate three GMMs, each composed of a different number of components. "
   ]
  },
  {
   "cell_type": "code",
   "execution_count": 4,
   "id": "b9ccbb51",
   "metadata": {},
   "outputs": [],
   "source": [
    "dim = 2 # the dimension of the Gaussians\n",
    "n_components = jnp.array([2, 3, 5]) # the number of components of the GMMs  \n",
    "n_gmms = n_components.size # the number of GMMs whose barycenter will be computed\n",
    "epsilon = 1. #0.1 # the entropy regularization parameter "
   ]
  },
  {
   "cell_type": "code",
   "execution_count": 5,
   "id": "f9894d9e",
   "metadata": {},
   "outputs": [],
   "source": [
    "# the maximal number of components of the considered GMMs\n",
    "max_gmm_size = jnp.amax(n_components)"
   ]
  },
  {
   "cell_type": "markdown",
   "id": "89a59ccb",
   "metadata": {},
   "source": [
    "The barycentric weights determine how much each GMM will contribute to the Wasserstein barycenter computation. Since these weights must sum to one, we generate them by sampling Dirichlet random values. Larger values of the concentration parameter $\\alpha$ lead to barycentric weights that are more uniform. Smaller values of $\\alpha$ will result to certain GMMs contributing significantly more than others to the barycenter computation.   "
   ]
  },
  {
   "cell_type": "code",
   "execution_count": 6,
   "id": "53bf20b1",
   "metadata": {},
   "outputs": [],
   "source": [
    "# generate the pseudo-random keys that will be needed\n",
    "key = jax.random.PRNGKey(seed=0)\n",
    "keys = jax.random.split(key, num=3) "
   ]
  },
  {
   "cell_type": "code",
   "execution_count": 7,
   "id": "d48c7e8f",
   "metadata": {},
   "outputs": [],
   "source": [
    "alpha = 50. # the concentration parameter of Dirichlet"
   ]
  },
  {
   "cell_type": "code",
   "execution_count": 8,
   "id": "bc7f8af4",
   "metadata": {},
   "outputs": [],
   "source": [
    "barycentric_weights = jax.random.dirichlet(keys[0], alpha=jnp.ones(n_gmms)*alpha) "
   ]
  },
  {
   "cell_type": "code",
   "execution_count": 9,
   "id": "3e2b2cd6",
   "metadata": {},
   "outputs": [],
   "source": [
    "# Create the seeds for the random generation of each measure.\n",
    "seeds = jax.random.randint(keys[1], shape=(n_gmms,), minval=0, maxval=100)"
   ]
  },
  {
   "cell_type": "markdown",
   "id": "12a43944",
   "metadata": {},
   "source": [
    "We set the offsets $c$ for each GMM to be different so that they can be easily visualized."
   ]
  },
  {
   "cell_type": "code",
   "execution_count": 10,
   "id": "2cbb4efe",
   "metadata": {},
   "outputs": [],
   "source": [
    "# Offsets for the means of each GMM\n",
    "cs = jnp.array([[-20, -15], [60, -15], [50, 65]])"
   ]
  },
  {
   "cell_type": "code",
   "execution_count": 11,
   "id": "0c7829ff",
   "metadata": {},
   "outputs": [],
   "source": [
    "ms = 0.1 * jnp.mean(cs, axis=1)"
   ]
  },
  {
   "cell_type": "code",
   "execution_count": 12,
   "id": "86ab5b36",
   "metadata": {},
   "outputs": [],
   "source": [
    "# Parameter that controls the covariance matrices\n",
    "ss = jnp.array([4, 3, 5])"
   ]
  },
  {
   "cell_type": "code",
   "execution_count": 13,
   "id": "9bd26384",
   "metadata": {},
   "outputs": [],
   "source": [
    "assert cs.shape[0] == n_gmms\n",
    "assert ss.size == n_gmms\n",
    "assert seeds.size == n_gmms\n",
    "assert n_components.size == n_gmms\n",
    "assert jnp.mean(cs, axis=1).all() > 0\n",
    "assert ss.all() > 0"
   ]
  },
  {
   "cell_type": "code",
   "execution_count": 14,
   "id": "82a461e5",
   "metadata": {},
   "outputs": [],
   "source": [
    "gmm_generators = [gaussian_mixture.GaussianMixture.from_random(jax.random.PRNGKey(seeds[i]), n_components=n_components[i], n_dimensions=dim, stdev_cov=ss[i], stdev_mean=ms[i], ridge=cs[i]) for i in range(n_gmms)]"
   ]
  },
  {
   "cell_type": "code",
   "execution_count": 15,
   "id": "1c7566e7",
   "metadata": {},
   "outputs": [],
   "source": [
    "# get the means and covariances of the GMMs\n",
    "means_covs = [(gmm_generators[i].loc, gmm_generators[i].covariance) for i in range(n_gmms)]"
   ]
  },
  {
   "cell_type": "code",
   "execution_count": 16,
   "id": "5d746c32",
   "metadata": {},
   "outputs": [],
   "source": [
    "# stack the concatenated means and (raveled) covariances of the pointclouds\n",
    "ys = jnp.vstack((costs.means_and_covs_to_x(means_covs[i][0], means_covs[i][1], dim) for i in range(n_gmms)))"
   ]
  },
  {
   "cell_type": "code",
   "execution_count": 17,
   "id": "eb718f6e",
   "metadata": {},
   "outputs": [],
   "source": [
    "# get the weights of the randomly generated GMMs\n",
    "weights = [gmm_generators[i].component_weight_ob.probs() for i in range(n_gmms)]"
   ]
  },
  {
   "cell_type": "code",
   "execution_count": 18,
   "id": "91700d09",
   "metadata": {},
   "outputs": [],
   "source": [
    "# stack the weights of the GMMs\n",
    "bs = jnp.hstack(jnp.array(weights[i]) for i in range(n_gmms))"
   ]
  },
  {
   "cell_type": "markdown",
   "id": "c792ca9a",
   "metadata": {},
   "source": [
    "# Compute the Wasserstein barycenter of the GMMs."
   ]
  },
  {
   "cell_type": "markdown",
   "id": "7a87beb4",
   "metadata": {},
   "source": [
    "We can now compute the barycenter of the input GMMs. We determine the number of components of the barycenter GMM and solve the barycenter problem."
   ]
  },
  {
   "cell_type": "code",
   "execution_count": 19,
   "id": "1c178f92",
   "metadata": {},
   "outputs": [],
   "source": [
    "# Determine the size of the barycenter.\n",
    "bar_size = 6"
   ]
  },
  {
   "cell_type": "code",
   "execution_count": 20,
   "id": "85428ed6",
   "metadata": {},
   "outputs": [],
   "source": [
    "# Create an instance of the Bures cost class.\n",
    "b_cost = costs.Bures(dimension=dim)"
   ]
  },
  {
   "cell_type": "code",
   "execution_count": 21,
   "id": "bd016819",
   "metadata": {},
   "outputs": [],
   "source": [
    "# Create a barycenter problem.\n",
    "bar_p = bar_problems.BarycenterProblem(\n",
    "        ys,\n",
    "        bs,\n",
    "        weights=barycentric_weights,\n",
    "        num_per_segment=n_components,\n",
    "        num_segments=n_gmms,\n",
    "        cost_fn=b_cost,\n",
    "        epsilon=epsilon,\n",
    "        max_measure_size=max_gmm_size\n",
    "    )"
   ]
  },
  {
   "cell_type": "code",
   "execution_count": 22,
   "id": "5dba3154",
   "metadata": {},
   "outputs": [],
   "source": [
    "# Create a Wasserstein barycenter solver.\n",
    "solver = continuous_barycenter.WassersteinBarycenter(lse_mode=False)"
   ]
  },
  {
   "cell_type": "code",
   "execution_count": 23,
   "id": "5702e303",
   "metadata": {},
   "outputs": [],
   "source": [
    "# Compute the barycenter.\n",
    "out = solver(bar_p, bar_size=bar_size)\n",
    "barycenter = out.x"
   ]
  },
  {
   "cell_type": "markdown",
   "id": "587f463a",
   "metadata": {},
   "source": [
    "Now that we have computed the barycenter, we can extract the means and the covariances of its components."
   ]
  },
  {
   "cell_type": "code",
   "execution_count": 24,
   "id": "1162408b",
   "metadata": {},
   "outputs": [],
   "source": [
    "# Extract the means and covariances of the barycenter.\n",
    "means_bary, covs_bary = costs.x_to_means_and_covs(barycenter, dim)"
   ]
  },
  {
   "cell_type": "markdown",
   "id": "80741af9",
   "metadata": {},
   "source": [
    "# Visualize the results."
   ]
  },
  {
   "cell_type": "markdown",
   "id": "742a6785",
   "metadata": {},
   "source": [
    "We consider a discretization grid in 2D in order to plot the negative probabilities of points under the considered GMMs. "
   ]
  },
  {
   "cell_type": "code",
   "execution_count": 25,
   "id": "e2d51265",
   "metadata": {},
   "outputs": [],
   "source": [
    "# Create the grid\n",
    "x1 = np.linspace(-30.0, 90.0)\n",
    "x2 = np.linspace(-30.0, 90.0)\n",
    "x, y = np.meshgrid(x1, x2)\n",
    "grid = np.array([x.ravel(), y.ravel()]).T"
   ]
  },
  {
   "cell_type": "code",
   "execution_count": 26,
   "id": "101063de",
   "metadata": {},
   "outputs": [],
   "source": [
    "# Compute the negative log probabilities of the GMMs at the grid.\n",
    "n_log_probs = jnp.asarray([-gmm_generators[i].log_prob(grid) for i in range(n_gmms)])"
   ]
  },
  {
   "cell_type": "code",
   "execution_count": 27,
   "id": "1f779128",
   "metadata": {},
   "outputs": [],
   "source": [
    "weights_bary = jnp.ones(bar_size) / bar_size"
   ]
  },
  {
   "cell_type": "markdown",
   "id": "49af2e5f",
   "metadata": {},
   "source": [
    "We now create a ``GaussianMixture`` object using the means and covarinces of the computed barycenter."
   ]
  },
  {
   "cell_type": "code",
   "execution_count": 28,
   "id": "67b141a8",
   "metadata": {},
   "outputs": [],
   "source": [
    "# Compute the negative log probabilities at the grid under the barycenter GMM.\n",
    "gmm_generator_bary = gaussian_mixture.GaussianMixture.from_mean_cov_component_weights(\n",
    "                                                                    mean=means_bary,\n",
    "                                                                    cov=covs_bary,\n",
    "                                                                    component_weights=weights_bary)\n",
    "\n",
    "# Compute the negative log probabilities of the barycenter at the grid.\n",
    "n_log_prob_bary = - gmm_generator_bary.log_prob(grid)"
   ]
  },
  {
   "cell_type": "markdown",
   "id": "b249681b",
   "metadata": {},
   "source": [
    "We visualize the three GMMs and their barycenter by plotting the negative log probabilities at the considered grid."
   ]
  },
  {
   "cell_type": "code",
   "execution_count": 29,
   "id": "c7403b2f",
   "metadata": {},
   "outputs": [],
   "source": [
    "# Reshape the log probabilities in order to plot.\n",
    "n_log_probs = n_log_probs.reshape((n_gmms, x.shape[0], x.shape[1]))\n",
    "n_log_prob_bary = n_log_prob_bary.reshape((x.shape[0], x.shape[1]))"
   ]
  },
  {
   "cell_type": "code",
   "execution_count": 30,
   "id": "1258a9ca",
   "metadata": {},
   "outputs": [
    {
     "name": "stderr",
     "output_type": "stream",
     "text": [
      "/Users/effrosyni_simou/opt/anaconda3/envs/myenv/lib/python3.9/site-packages/matplotlib/contour.py:1486: UserWarning: Warning: converting a masked element to nan.\n",
      "  self.zmax = float(z.max())\n",
      "/Users/effrosyni_simou/opt/anaconda3/envs/myenv/lib/python3.9/site-packages/matplotlib/contour.py:1487: UserWarning: Warning: converting a masked element to nan.\n",
      "  self.zmin = float(z.min())\n",
      "/var/folders/rz/l7ch6fmx5jjgld6qxgfr9zr80000gp/T/ipykernel_2584/2994974007.py:4: UserWarning: No contour levels were found within the data range.\n",
      "  _ = plt.contour(\n"
     ]
    },
    {
     "ename": "TypeError",
     "evalue": "'<=' not supported between instances of 'list' and 'int'",
     "output_type": "error",
     "traceback": [
      "\u001b[0;31m---------------------------------------------------------------------------\u001b[0m",
      "\u001b[0;31mTypeError\u001b[0m                                 Traceback (most recent call last)",
      "Input \u001b[0;32mIn [30]\u001b[0m, in \u001b[0;36m<cell line: 4>\u001b[0;34m()\u001b[0m\n\u001b[1;32m      2\u001b[0m \u001b[38;5;28;01mfor\u001b[39;00m i \u001b[38;5;129;01min\u001b[39;00m \u001b[38;5;28mrange\u001b[39m(n_gmms):\n\u001b[1;32m      3\u001b[0m     _ \u001b[38;5;241m=\u001b[39m plt\u001b[38;5;241m.\u001b[39mcontour(x, y, n_log_probs[i, :, :], norm\u001b[38;5;241m=\u001b[39mLogNorm(vmin\u001b[38;5;241m=\u001b[39m\u001b[38;5;241m1.0\u001b[39m, vmax\u001b[38;5;241m=\u001b[39m\u001b[38;5;241m10.0\u001b[39m), levels\u001b[38;5;241m=\u001b[39mnp\u001b[38;5;241m.\u001b[39mlogspace(\u001b[38;5;241m0\u001b[39m, \u001b[38;5;241m1\u001b[39m, \u001b[38;5;241m10\u001b[39m))\n\u001b[0;32m----> 4\u001b[0m _ \u001b[38;5;241m=\u001b[39m \u001b[43mplt\u001b[49m\u001b[38;5;241;43m.\u001b[39;49m\u001b[43mcontour\u001b[49m\u001b[43m(\u001b[49m\n\u001b[1;32m      5\u001b[0m \u001b[43m    \u001b[49m\u001b[43mx\u001b[49m\u001b[43m,\u001b[49m\u001b[43m \u001b[49m\u001b[43my\u001b[49m\u001b[43m,\u001b[49m\u001b[43m \u001b[49m\u001b[43mn_log_prob_bary\u001b[49m\u001b[43m,\u001b[49m\u001b[43m \u001b[49m\u001b[43mnorm\u001b[49m\u001b[38;5;241;43m=\u001b[39;49m\u001b[43mLogNorm\u001b[49m\u001b[43m(\u001b[49m\u001b[43mvmin\u001b[49m\u001b[38;5;241;43m=\u001b[39;49m\u001b[38;5;241;43m1.0\u001b[39;49m\u001b[43m,\u001b[49m\u001b[43m \u001b[49m\u001b[43mvmax\u001b[49m\u001b[38;5;241;43m=\u001b[39;49m\u001b[38;5;241;43m10.0\u001b[39;49m\u001b[43m)\u001b[49m\u001b[43m,\u001b[49m\u001b[43m \u001b[49m\u001b[43mlevels\u001b[49m\u001b[38;5;241;43m=\u001b[39;49m\u001b[43mnp\u001b[49m\u001b[38;5;241;43m.\u001b[39;49m\u001b[43mlogspace\u001b[49m\u001b[43m(\u001b[49m\u001b[38;5;241;43m0\u001b[39;49m\u001b[43m,\u001b[49m\u001b[43m \u001b[49m\u001b[38;5;241;43m1\u001b[39;49m\u001b[43m,\u001b[49m\u001b[43m \u001b[49m\u001b[38;5;241;43m10\u001b[39;49m\u001b[43m)\u001b[49m\n\u001b[1;32m      6\u001b[0m \u001b[43m)\u001b[49m\n\u001b[1;32m      7\u001b[0m plt\u001b[38;5;241m.\u001b[39mannotate(\u001b[38;5;124m'\u001b[39m\u001b[38;5;124mFirst GMM\u001b[39m\u001b[38;5;124m'\u001b[39m,(\u001b[38;5;241m-\u001b[39m\u001b[38;5;241m25\u001b[39m, \u001b[38;5;241m0\u001b[39m), fontsize\u001b[38;5;241m=\u001b[39m\u001b[38;5;241m16\u001b[39m)\n\u001b[1;32m      8\u001b[0m plt\u001b[38;5;241m.\u001b[39mannotate(\u001b[38;5;124m'\u001b[39m\u001b[38;5;124mSecond GMM\u001b[39m\u001b[38;5;124m'\u001b[39m,(\u001b[38;5;241m50\u001b[39m, \u001b[38;5;241m-\u001b[39m\u001b[38;5;241m8\u001b[39m), fontsize\u001b[38;5;241m=\u001b[39m\u001b[38;5;241m16\u001b[39m)\n",
      "File \u001b[0;32m~/opt/anaconda3/envs/myenv/lib/python3.9/site-packages/matplotlib/pyplot.py:2472\u001b[0m, in \u001b[0;36mcontour\u001b[0;34m(data, *args, **kwargs)\u001b[0m\n\u001b[1;32m   2470\u001b[0m \u001b[38;5;129m@_copy_docstring_and_deprecators\u001b[39m(Axes\u001b[38;5;241m.\u001b[39mcontour)\n\u001b[1;32m   2471\u001b[0m \u001b[38;5;28;01mdef\u001b[39;00m \u001b[38;5;21mcontour\u001b[39m(\u001b[38;5;241m*\u001b[39margs, data\u001b[38;5;241m=\u001b[39m\u001b[38;5;28;01mNone\u001b[39;00m, \u001b[38;5;241m*\u001b[39m\u001b[38;5;241m*\u001b[39mkwargs):\n\u001b[0;32m-> 2472\u001b[0m     __ret \u001b[38;5;241m=\u001b[39m \u001b[43mgca\u001b[49m\u001b[43m(\u001b[49m\u001b[43m)\u001b[49m\u001b[38;5;241;43m.\u001b[39;49m\u001b[43mcontour\u001b[49m\u001b[43m(\u001b[49m\n\u001b[1;32m   2473\u001b[0m \u001b[43m        \u001b[49m\u001b[38;5;241;43m*\u001b[39;49m\u001b[43margs\u001b[49m\u001b[43m,\u001b[49m\u001b[43m \u001b[49m\u001b[38;5;241;43m*\u001b[39;49m\u001b[38;5;241;43m*\u001b[39;49m\u001b[43m(\u001b[49m\u001b[43m{\u001b[49m\u001b[38;5;124;43m\"\u001b[39;49m\u001b[38;5;124;43mdata\u001b[39;49m\u001b[38;5;124;43m\"\u001b[39;49m\u001b[43m:\u001b[49m\u001b[43m \u001b[49m\u001b[43mdata\u001b[49m\u001b[43m}\u001b[49m\u001b[43m \u001b[49m\u001b[38;5;28;43;01mif\u001b[39;49;00m\u001b[43m \u001b[49m\u001b[43mdata\u001b[49m\u001b[43m \u001b[49m\u001b[38;5;129;43;01mis\u001b[39;49;00m\u001b[43m \u001b[49m\u001b[38;5;129;43;01mnot\u001b[39;49;00m\u001b[43m \u001b[49m\u001b[38;5;28;43;01mNone\u001b[39;49;00m\u001b[43m \u001b[49m\u001b[38;5;28;43;01melse\u001b[39;49;00m\u001b[43m \u001b[49m\u001b[43m{\u001b[49m\u001b[43m}\u001b[49m\u001b[43m)\u001b[49m\u001b[43m,\u001b[49m\n\u001b[1;32m   2474\u001b[0m \u001b[43m        \u001b[49m\u001b[38;5;241;43m*\u001b[39;49m\u001b[38;5;241;43m*\u001b[39;49m\u001b[43mkwargs\u001b[49m\u001b[43m)\u001b[49m\n\u001b[1;32m   2475\u001b[0m     \u001b[38;5;28;01mif\u001b[39;00m __ret\u001b[38;5;241m.\u001b[39m_A \u001b[38;5;129;01mis\u001b[39;00m \u001b[38;5;129;01mnot\u001b[39;00m \u001b[38;5;28;01mNone\u001b[39;00m: sci(__ret)  \u001b[38;5;66;03m# noqa\u001b[39;00m\n\u001b[1;32m   2476\u001b[0m     \u001b[38;5;28;01mreturn\u001b[39;00m __ret\n",
      "File \u001b[0;32m~/opt/anaconda3/envs/myenv/lib/python3.9/site-packages/matplotlib/__init__.py:1412\u001b[0m, in \u001b[0;36m_preprocess_data.<locals>.inner\u001b[0;34m(ax, data, *args, **kwargs)\u001b[0m\n\u001b[1;32m   1409\u001b[0m \u001b[38;5;129m@functools\u001b[39m\u001b[38;5;241m.\u001b[39mwraps(func)\n\u001b[1;32m   1410\u001b[0m \u001b[38;5;28;01mdef\u001b[39;00m \u001b[38;5;21minner\u001b[39m(ax, \u001b[38;5;241m*\u001b[39margs, data\u001b[38;5;241m=\u001b[39m\u001b[38;5;28;01mNone\u001b[39;00m, \u001b[38;5;241m*\u001b[39m\u001b[38;5;241m*\u001b[39mkwargs):\n\u001b[1;32m   1411\u001b[0m     \u001b[38;5;28;01mif\u001b[39;00m data \u001b[38;5;129;01mis\u001b[39;00m \u001b[38;5;28;01mNone\u001b[39;00m:\n\u001b[0;32m-> 1412\u001b[0m         \u001b[38;5;28;01mreturn\u001b[39;00m \u001b[43mfunc\u001b[49m\u001b[43m(\u001b[49m\u001b[43max\u001b[49m\u001b[43m,\u001b[49m\u001b[43m \u001b[49m\u001b[38;5;241;43m*\u001b[39;49m\u001b[38;5;28;43mmap\u001b[39;49m\u001b[43m(\u001b[49m\u001b[43msanitize_sequence\u001b[49m\u001b[43m,\u001b[49m\u001b[43m \u001b[49m\u001b[43margs\u001b[49m\u001b[43m)\u001b[49m\u001b[43m,\u001b[49m\u001b[43m \u001b[49m\u001b[38;5;241;43m*\u001b[39;49m\u001b[38;5;241;43m*\u001b[39;49m\u001b[43mkwargs\u001b[49m\u001b[43m)\u001b[49m\n\u001b[1;32m   1414\u001b[0m     bound \u001b[38;5;241m=\u001b[39m new_sig\u001b[38;5;241m.\u001b[39mbind(ax, \u001b[38;5;241m*\u001b[39margs, \u001b[38;5;241m*\u001b[39m\u001b[38;5;241m*\u001b[39mkwargs)\n\u001b[1;32m   1415\u001b[0m     auto_label \u001b[38;5;241m=\u001b[39m (bound\u001b[38;5;241m.\u001b[39marguments\u001b[38;5;241m.\u001b[39mget(label_namer)\n\u001b[1;32m   1416\u001b[0m                   \u001b[38;5;129;01mor\u001b[39;00m bound\u001b[38;5;241m.\u001b[39mkwargs\u001b[38;5;241m.\u001b[39mget(label_namer))\n",
      "File \u001b[0;32m~/opt/anaconda3/envs/myenv/lib/python3.9/site-packages/matplotlib/axes/_axes.py:6301\u001b[0m, in \u001b[0;36mAxes.contour\u001b[0;34m(self, *args, **kwargs)\u001b[0m\n\u001b[1;32m   6292\u001b[0m \u001b[38;5;124;03m\"\"\"\u001b[39;00m\n\u001b[1;32m   6293\u001b[0m \u001b[38;5;124;03mPlot contour lines.\u001b[39;00m\n\u001b[1;32m   6294\u001b[0m \n\u001b[0;32m   (...)\u001b[0m\n\u001b[1;32m   6298\u001b[0m \u001b[38;5;124;03m%(contour_doc)s\u001b[39;00m\n\u001b[1;32m   6299\u001b[0m \u001b[38;5;124;03m\"\"\"\u001b[39;00m\n\u001b[1;32m   6300\u001b[0m kwargs[\u001b[38;5;124m'\u001b[39m\u001b[38;5;124mfilled\u001b[39m\u001b[38;5;124m'\u001b[39m] \u001b[38;5;241m=\u001b[39m \u001b[38;5;28;01mFalse\u001b[39;00m\n\u001b[0;32m-> 6301\u001b[0m contours \u001b[38;5;241m=\u001b[39m \u001b[43mmcontour\u001b[49m\u001b[38;5;241;43m.\u001b[39;49m\u001b[43mQuadContourSet\u001b[49m\u001b[43m(\u001b[49m\u001b[38;5;28;43mself\u001b[39;49m\u001b[43m,\u001b[49m\u001b[43m \u001b[49m\u001b[38;5;241;43m*\u001b[39;49m\u001b[43margs\u001b[49m\u001b[43m,\u001b[49m\u001b[43m \u001b[49m\u001b[38;5;241;43m*\u001b[39;49m\u001b[38;5;241;43m*\u001b[39;49m\u001b[43mkwargs\u001b[49m\u001b[43m)\u001b[49m\n\u001b[1;32m   6302\u001b[0m \u001b[38;5;28mself\u001b[39m\u001b[38;5;241m.\u001b[39m_request_autoscale_view()\n\u001b[1;32m   6303\u001b[0m \u001b[38;5;28;01mreturn\u001b[39;00m contours\n",
      "File \u001b[0;32m~/opt/anaconda3/envs/myenv/lib/python3.9/site-packages/matplotlib/contour.py:922\u001b[0m, in \u001b[0;36mContourSet.__init__\u001b[0;34m(self, ax, levels, filled, linewidths, linestyles, hatches, alpha, origin, extent, cmap, colors, norm, vmin, vmax, extend, antialiased, nchunk, locator, transform, *args, **kwargs)\u001b[0m\n\u001b[1;32m    919\u001b[0m \u001b[38;5;28mself\u001b[39m\u001b[38;5;241m.\u001b[39maxes\u001b[38;5;241m.\u001b[39mupdate_datalim([\u001b[38;5;28mself\u001b[39m\u001b[38;5;241m.\u001b[39m_mins, \u001b[38;5;28mself\u001b[39m\u001b[38;5;241m.\u001b[39m_maxs])\n\u001b[1;32m    920\u001b[0m \u001b[38;5;28mself\u001b[39m\u001b[38;5;241m.\u001b[39maxes\u001b[38;5;241m.\u001b[39mautoscale_view(tight\u001b[38;5;241m=\u001b[39m\u001b[38;5;28;01mTrue\u001b[39;00m)\n\u001b[0;32m--> 922\u001b[0m \u001b[38;5;28;43mself\u001b[39;49m\u001b[38;5;241;43m.\u001b[39;49m\u001b[43mchanged\u001b[49m\u001b[43m(\u001b[49m\u001b[43m)\u001b[49m  \u001b[38;5;66;03m# set the colors\u001b[39;00m\n\u001b[1;32m    924\u001b[0m \u001b[38;5;28;01mif\u001b[39;00m kwargs:\n\u001b[1;32m    925\u001b[0m     _api\u001b[38;5;241m.\u001b[39mwarn_external(\n\u001b[1;32m    926\u001b[0m         \u001b[38;5;124m'\u001b[39m\u001b[38;5;124mThe following kwargs were not used by contour: \u001b[39m\u001b[38;5;124m'\u001b[39m \u001b[38;5;241m+\u001b[39m\n\u001b[1;32m    927\u001b[0m         \u001b[38;5;124m\"\u001b[39m\u001b[38;5;124m, \u001b[39m\u001b[38;5;124m\"\u001b[39m\u001b[38;5;241m.\u001b[39mjoin(\u001b[38;5;28mmap\u001b[39m(\u001b[38;5;28mrepr\u001b[39m, kwargs))\n\u001b[1;32m    928\u001b[0m     )\n",
      "File \u001b[0;32m~/opt/anaconda3/envs/myenv/lib/python3.9/site-packages/matplotlib/contour.py:1104\u001b[0m, in \u001b[0;36mContourSet.changed\u001b[0;34m(self)\u001b[0m\n\u001b[1;32m   1099\u001b[0m     \u001b[38;5;28;01mreturn\u001b[39;00m\n\u001b[1;32m   1100\u001b[0m \u001b[38;5;66;03m# Force an autoscale immediately because self.to_rgba() calls\u001b[39;00m\n\u001b[1;32m   1101\u001b[0m \u001b[38;5;66;03m# autoscale_None() internally with the data passed to it,\u001b[39;00m\n\u001b[1;32m   1102\u001b[0m \u001b[38;5;66;03m# so if vmin/vmax are not set yet, this would override them with\u001b[39;00m\n\u001b[1;32m   1103\u001b[0m \u001b[38;5;66;03m# content from *cvalues* rather than levels like we want\u001b[39;00m\n\u001b[0;32m-> 1104\u001b[0m \u001b[38;5;28;43mself\u001b[39;49m\u001b[38;5;241;43m.\u001b[39;49m\u001b[43mnorm\u001b[49m\u001b[38;5;241;43m.\u001b[39;49m\u001b[43mautoscale_None\u001b[49m\u001b[43m(\u001b[49m\u001b[38;5;28;43mself\u001b[39;49m\u001b[38;5;241;43m.\u001b[39;49m\u001b[43mlevels\u001b[49m\u001b[43m)\u001b[49m\n\u001b[1;32m   1105\u001b[0m tcolors \u001b[38;5;241m=\u001b[39m [(\u001b[38;5;28mtuple\u001b[39m(rgba),)\n\u001b[1;32m   1106\u001b[0m            \u001b[38;5;28;01mfor\u001b[39;00m rgba \u001b[38;5;129;01min\u001b[39;00m \u001b[38;5;28mself\u001b[39m\u001b[38;5;241m.\u001b[39mto_rgba(\u001b[38;5;28mself\u001b[39m\u001b[38;5;241m.\u001b[39mcvalues, alpha\u001b[38;5;241m=\u001b[39m\u001b[38;5;28mself\u001b[39m\u001b[38;5;241m.\u001b[39malpha)]\n\u001b[1;32m   1107\u001b[0m \u001b[38;5;28mself\u001b[39m\u001b[38;5;241m.\u001b[39mtcolors \u001b[38;5;241m=\u001b[39m tcolors\n",
      "File \u001b[0;32m~/opt/anaconda3/envs/myenv/lib/python3.9/site-packages/matplotlib/colors.py:1618\u001b[0m, in \u001b[0;36mLogNorm.autoscale_None\u001b[0;34m(self, A)\u001b[0m\n\u001b[1;32m   1616\u001b[0m \u001b[38;5;28;01mdef\u001b[39;00m \u001b[38;5;21mautoscale_None\u001b[39m(\u001b[38;5;28mself\u001b[39m, A):\n\u001b[1;32m   1617\u001b[0m     \u001b[38;5;66;03m# docstring inherited.\u001b[39;00m\n\u001b[0;32m-> 1618\u001b[0m     \u001b[38;5;28msuper\u001b[39m()\u001b[38;5;241m.\u001b[39mautoscale_None(np\u001b[38;5;241m.\u001b[39mma\u001b[38;5;241m.\u001b[39marray(A, mask\u001b[38;5;241m=\u001b[39m(\u001b[43mA\u001b[49m\u001b[43m \u001b[49m\u001b[38;5;241;43m<\u001b[39;49m\u001b[38;5;241;43m=\u001b[39;49m\u001b[43m \u001b[49m\u001b[38;5;241;43m0\u001b[39;49m)))\n",
      "\u001b[0;31mTypeError\u001b[0m: '<=' not supported between instances of 'list' and 'int'"
     ]
    },
    {
     "data": {
      "image/png": "[encoded data removed]",
      "text/plain": [
       "<Figure size 720x720 with 1 Axes>"
      ]
     },
     "metadata": {
      "needs_background": "light"
     },
     "output_type": "display_data"
    }
   ],
   "source": [
    "plt.figure(figsize=(10,10))\n",
    "for i in range(n_gmms):\n",
    "    _ = plt.contour(x, y, n_log_probs[i, :, :], norm=LogNorm(vmin=1.0, vmax=10.0), levels=np.logspace(0, 1, 10))\n",
    "_ = plt.contour(\n",
    "    x, y, n_log_prob_bary, norm=LogNorm(vmin=1.0, vmax=10.0), levels=np.logspace(0, 1, 10)\n",
    ")\n",
    "plt.annotate('First GMM',(-25, 0), fontsize=16)\n",
    "plt.annotate('Second GMM',(50, -8), fontsize=16)\n",
    "plt.annotate('Third GMM',(40, 78), fontsize=16)\n",
    "plt.annotate('Barycenter',(20, 30), fontsize=16)\n",
    "\n",
    "plt.title(\"Three GMMs and their barycenter\", fontsize=20)\n",
    "plt.axis(\"tight\")\n",
    "plt.show()"
   ]
  },
  {
   "cell_type": "code",
   "execution_count": 31,
   "id": "b56362fc",
   "metadata": {},
   "outputs": [
    {
     "data": {
      "text/plain": [
       "DeviceArray([[nan, nan, nan, nan, nan, nan],\n",
       "             [nan, nan, nan, nan, nan, nan],\n",
       "             [nan, nan, nan, nan, nan, nan],\n",
       "             [nan, nan, nan, nan, nan, nan],\n",
       "             [nan, nan, nan, nan, nan, nan],\n",
       "             [nan, nan, nan, nan, nan, nan]], dtype=float32)"
      ]
     },
     "execution_count": 31,
     "metadata": {},
     "output_type": "execute_result"
    }
   ],
   "source": [
    "barycenter"
   ]
  },
  {
   "cell_type": "code",
   "execution_count": 32,
   "id": "d1818128",
   "metadata": {},
   "outputs": [
    {
     "data": {
      "text/plain": [
       "DeviceArray([ 0.9999999,        nan,        nan,        nan,        nan,\n",
       "             -1.       , -1.       , -1.       , -1.       , -1.       ,\n",
       "             -1.       , -1.       , -1.       , -1.       , -1.       ,\n",
       "             -1.       , -1.       , -1.       , -1.       , -1.       ,\n",
       "             -1.       , -1.       , -1.       , -1.       , -1.       ,\n",
       "             -1.       , -1.       , -1.       , -1.       , -1.       ,\n",
       "             -1.       , -1.       , -1.       , -1.       , -1.       ,\n",
       "             -1.       , -1.       , -1.       , -1.       , -1.       ,\n",
       "             -1.       , -1.       , -1.       , -1.       , -1.       ,\n",
       "             -1.       , -1.       , -1.       , -1.       , -1.       ],            dtype=float32)"
      ]
     },
     "execution_count": 32,
     "metadata": {},
     "output_type": "execute_result"
    }
   ],
   "source": [
    "out.costs"
   ]
  },
  {
   "cell_type": "code",
   "execution_count": null,
   "id": "26b91c99",
   "metadata": {},
   "outputs": [],
   "source": []
  }
 ],
 "metadata": {
  "kernelspec": {
   "display_name": "Python 3 (ipykernel)",
   "language": "python",
   "name": "python3"
  },
  "language_info": {
   "codemirror_mode": {
    "name": "ipython",
    "version": 3
   },
   "file_extension": ".py",
   "mimetype": "text/x-python",
   "name": "python",
   "nbconvert_exporter": "python",
   "pygments_lexer": "ipython3",
   "version": "3.9.12"
  }
 },
 "nbformat": 4,
 "nbformat_minor": 5
}
